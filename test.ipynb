{
 "cells": [
  {
   "cell_type": "code",
   "execution_count": null,
   "metadata": {},
   "outputs": [],
   "source": [
    "import pandas as pd\n",
    "\n",
    "from gpt_utils import get_prompt\n",
    "\n",
    "SOURCE_DIR = 'data/source/'\n",
    "FINETUNED_DIR = 'data/gpt_finetune/'\n",
    "\n",
    "data = pd.read_csv(SOURCE_DIR + 'autocast_train.csv')\n",
    "\n",
    "data"
   ]
  },
  {
   "cell_type": "code",
   "execution_count": 3,
   "metadata": {},
   "outputs": [],
   "source": [
    "import json\n",
    "#import requests\n",
    "from os.path import exists\n",
    "\n",
    "import openai\n",
    "\n",
    "from gpt_utils import *\n",
    "\n",
    "SECRETS = 'secrets.json'\n",
    "\n",
    "if exists(SECRETS):\n",
    "    with open(SECRETS) as f:\n",
    "        openai.api_key = json.load(f)['api_key']\n",
    "else:\n",
    "    raise FileNotFoundError(f'''No file {SECRETS} found\n",
    "    If you\\'re trying to run this, you need to get an OpenAI API token\n",
    "    and put it in a json file called {SECRETS} with the field \\'api_key\\'''')\n",
    "\n",
    "test_prompt = \"Context: China suspended initial public offerings (IPOs) in early July (http://www. bloomberg. com/news/articles/2015-07-04/china-stock-brokers-set-up-19-billion-fund-to-stem-market-rout , http://www. reuters. com/article/2015/07/05/us-china-markets-brokerage-pledge-idUSKCN0PE08E20150705 , http://www. wsj. com/articles/china-setting-up-fund-to-stabilize-stock-market-1435991611 ). \\\\nQuestion: Will there be an initial public offering on either the Shanghai Stock Exchange or the Shenzhen Stock Exchange before 1 January 2016?\\\\nChoices: yes\\\\nno\\\\n###\\\\n\"\n",
    "\n",
    "response = openai.Completion.create(\n",
    "    model='curie:ft-personal-2023-05-03-09-26-57',\n",
    "    prompt=test_prompt)"
   ]
  },
  {
   "cell_type": "code",
   "execution_count": null,
   "metadata": {},
   "outputs": [],
   "source": [
    "response"
   ]
  }
 ],
 "metadata": {
  "kernelspec": {
   "display_name": "Python 3",
   "language": "python",
   "name": "python3"
  },
  "language_info": {
   "codemirror_mode": {
    "name": "ipython",
    "version": 3
   },
   "file_extension": ".py",
   "mimetype": "text/x-python",
   "name": "python",
   "nbconvert_exporter": "python",
   "pygments_lexer": "ipython3",
   "version": "3.10.11"
  },
  "orig_nbformat": 4
 },
 "nbformat": 4,
 "nbformat_minor": 2
}
