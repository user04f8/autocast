{
 "cells": [
  {
   "cell_type": "code",
   "execution_count": null,
   "metadata": {},
   "outputs": [],
   "source": [
    "import pandas as pd\n",
    "\n",
    "from gpt_utils import get_prompt\n",
    "\n",
    "SOURCE_DIR = 'data/source/'\n",
    "FINETUNED_DIR = 'data/gpt_finetune/'\n",
    "\n",
    "data = pd.read_csv(SOURCE_DIR + 'autocast_train.csv')\n",
    "\n",
    "data"
   ]
  },
  {
   "cell_type": "code",
   "execution_count": null,
   "metadata": {},
   "outputs": [],
   "source": []
  }
 ],
 "metadata": {
  "language_info": {
   "name": "python"
  },
  "orig_nbformat": 4
 },
 "nbformat": 4,
 "nbformat_minor": 2
}
